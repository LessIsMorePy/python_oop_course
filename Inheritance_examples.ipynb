{
 "cells": [
  {
   "cell_type": "markdown",
   "metadata": {},
   "source": [
    "## Class"
   ]
  },
  {
   "cell_type": "code",
   "execution_count": 179,
   "metadata": {},
   "outputs": [],
   "source": [
    "class Warrior:\n",
    "    \n",
    "    def __init__(self, name):\n",
    "        self.name = name\n",
    "        \n",
    "    def talk(self):\n",
    "        return 'my name is {}'.format(self.name)\n",
    "    \n",
    "    def jump(self):\n",
    "        return '{} jump!'.format(self.name)\n",
    "    \n",
    "    def run(self):\n",
    "        return '{} run!'.format(self.name)"
   ]
  },
  {
   "cell_type": "markdown",
   "metadata": {},
   "source": [
    "## Inheritance"
   ]
  },
  {
   "cell_type": "code",
   "execution_count": 180,
   "metadata": {},
   "outputs": [],
   "source": [
    "class KindI(Warrior):\n",
    "    \n",
    "    def __init__(self, name):\n",
    "        super().__init__(name)\n",
    "        self.attack = 'attack I'\n",
    "        \n",
    "    def power(self):\n",
    "        return '{0} has the {1}'.format(self.name, self.attack)"
   ]
  },
  {
   "cell_type": "code",
   "execution_count": 181,
   "metadata": {},
   "outputs": [],
   "source": [
    "class KindII (Warrior):\n",
    "    \n",
    "    def __init__(self, name):\n",
    "        super().__init__(name)\n",
    "        self.attack = 'attack II'\n",
    "        \n",
    "    def power(self):\n",
    "        return '{0} has the {1}'.format(self.name, self.attack)"
   ]
  },
  {
   "cell_type": "code",
   "execution_count": 182,
   "metadata": {},
   "outputs": [],
   "source": [
    "class KindIII(Warrior):\n",
    "        \n",
    "    def power(self):\n",
    "        return '{0} has the {1} and {2}'.format(self.name, KindI(self.name).attack, KindII(self.name).attack)"
   ]
  },
  {
   "cell_type": "markdown",
   "metadata": {},
   "source": [
    "## Build instances"
   ]
  },
  {
   "cell_type": "code",
   "execution_count": 183,
   "metadata": {},
   "outputs": [
    {
     "name": "stdout",
     "output_type": "stream",
     "text": [
      "my name is Koba\n",
      "Koba has the attack I\n",
      "Koba jump!\n"
     ]
    }
   ],
   "source": [
    "warriorI = KindI('Koba')\n",
    "print(warriorI.talk())\n",
    "print(warriorI.power())\n",
    "print(warriorI.jump())"
   ]
  },
  {
   "cell_type": "code",
   "execution_count": 184,
   "metadata": {},
   "outputs": [
    {
     "name": "stdout",
     "output_type": "stream",
     "text": [
      "my name is Lee\n",
      "Lee has the attack II\n",
      "Lee run!\n"
     ]
    }
   ],
   "source": [
    "warriorII = KindII('Lee')\n",
    "print(warriorII.talk())\n",
    "print(warriorII.power())\n",
    "print(warriorII.run())"
   ]
  },
  {
   "cell_type": "code",
   "execution_count": 185,
   "metadata": {},
   "outputs": [
    {
     "name": "stdout",
     "output_type": "stream",
     "text": [
      "my name is Dragon\n",
      "Dragon has the attack I and attack II\n",
      "Dragon run!\n",
      "Dragon jump!\n"
     ]
    }
   ],
   "source": [
    "warriorIII = KindIII('Dragon')\n",
    "print(warriorIII.talk())\n",
    "print(warriorIII.power())\n",
    "print(warriorIII.run())\n",
    "print(warriorIII.jump())"
   ]
  }
 ],
 "metadata": {
  "kernelspec": {
   "display_name": "Python 3",
   "language": "python",
   "name": "python3"
  },
  "language_info": {
   "codemirror_mode": {
    "name": "ipython",
    "version": 3
   },
   "file_extension": ".py",
   "mimetype": "text/x-python",
   "name": "python",
   "nbconvert_exporter": "python",
   "pygments_lexer": "ipython3",
   "version": "3.7.0"
  }
 },
 "nbformat": 4,
 "nbformat_minor": 2
}
